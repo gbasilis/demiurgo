{
  "nbformat": 4,
  "nbformat_minor": 0,
  "metadata": {
    "colab": {
      "provenance": [],
      "include_colab_link": true
    },
    "kernelspec": {
      "name": "python3",
      "display_name": "Python 3"
    },
    "language_info": {
      "name": "python"
    }
  },
  "cells": [
    {
      "cell_type": "markdown",
      "metadata": {
        "id": "view-in-github",
        "colab_type": "text"
      },
      "source": [
        "<a href=\"https://colab.research.google.com/github/gbasilis/demiurgo/blob/master/Test_1.ipynb\" target=\"_parent\"><img src=\"https://colab.research.google.com/assets/colab-badge.svg\" alt=\"Open In Colab\"/></a>"
      ]
    },
    {
      "cell_type": "code",
      "source": [
        "print(\"hello this is word\")\n",
        "import numpy as np\n",
        "\n",
        "print(\"NumPy version: \" + str(np.__version__))\n",
        "\n",
        "a = np.arange(15).reshape(3, 5)\n",
        "print(a)\n",
        "\n",
        "print(\"\\n\\n\")\n",
        "\n",
        "c = np.arange(12).reshape(3,4)\n",
        "b = c > 4\n",
        "print(\"b is a boolean with a's shape\")\n",
        "print(b)                                          # b is a boolean with a's shape\n",
        "\n",
        "print(\"\\n\")\n",
        "print(\"1d array with the selected elements\")\n",
        "\n",
        "print(c[b])                                       # 1d array with the selected elements\n"
      ],
      "metadata": {
        "colab": {
          "base_uri": "https://localhost:8080/"
        },
        "id": "5_jmkelqPxOH",
        "outputId": "a357254a-ceba-4583-f91e-2f3328d0e442"
      },
      "execution_count": 1,
      "outputs": [
        {
          "output_type": "stream",
          "name": "stdout",
          "text": [
            "hello this is word\n",
            "NumPy version: 1.26.4\n",
            "[[ 0  1  2  3  4]\n",
            " [ 5  6  7  8  9]\n",
            " [10 11 12 13 14]]\n",
            "\n",
            "\n",
            "\n",
            "b is a boolean with a's shape\n",
            "[[False False False False]\n",
            " [False  True  True  True]\n",
            " [ True  True  True  True]]\n",
            "\n",
            "\n",
            "1d array with the selected elements\n",
            "[ 5  6  7  8  9 10 11]\n"
          ]
        }
      ]
    }
  ]
}