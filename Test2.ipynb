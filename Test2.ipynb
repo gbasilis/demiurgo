{
 "cells": [
  {
   "cell_type": "code",
   "execution_count": 6,
   "id": "25f0a376-888c-40da-b6b7-818522c099d9",
   "metadata": {},
   "outputs": [
    {
     "name": "stdout",
     "output_type": "stream",
     "text": [
      "Matriz A:\n",
      "[[1 2]\n",
      " [3 4]]\n",
      "\n",
      "Matriz B:\n",
      "[[5 6]\n",
      " [7 8]]\n",
      "\n",
      "Suma de A y B:\n",
      "[[ 6  8]\n",
      " [10 12]]\n",
      "\n",
      "Producto de A y B:\n",
      "[[19 22]\n",
      " [43 50]]\n",
      "\n",
      "Transpuesta de A:\n",
      "[[1 3]\n",
      " [2 4]]\n",
      "\n",
      "Determinante de A:\n",
      "-2.0000000000000004\n"
     ]
    }
   ],
   "source": [
    "import numpy as np\n",
    "\n",
    "# Crear una matriz 2x2\n",
    "matriz_a = np.array([[1, 2], [3, 4]])\n",
    "print(\"Matriz A:\")\n",
    "print(matriz_a)\n",
    "\n",
    "# Crear otra matriz 2x2\n",
    "matriz_b = np.array([[5, 6], [7, 8]])\n",
    "print(\"\\nMatriz B:\")\n",
    "print(matriz_b)\n",
    "\n",
    "# Sumar las matrices\n",
    "suma = matriz_a + matriz_b\n",
    "print(\"\\nSuma de A y B:\")\n",
    "print(suma)\n",
    "\n",
    "# Multiplicar las matrices\n",
    "producto = np.dot(matriz_a, matriz_b)\n",
    "print(\"\\nProducto de A y B:\")\n",
    "print(producto)\n",
    "\n",
    "# Transponer la matriz A\n",
    "transpuesta_a = np.transpose(matriz_a)\n",
    "print(\"\\nTranspuesta de A:\")\n",
    "print(transpuesta_a)\n",
    "\n",
    "# Calcular el determinante de la matriz A\n",
    "determinante_a = np.linalg.det(matriz_a)\n",
    "print(\"\\nDeterminante de A:\")\n",
    "print(determinante_a)"
   ]
  },
  {
   "cell_type": "code",
   "execution_count": null,
   "id": "3533342d-4787-42c6-bf44-51d83a480767",
   "metadata": {},
   "outputs": [],
   "source": []
  }
 ],
 "metadata": {
  "kernelspec": {
   "display_name": "Python 3 (ipykernel)",
   "language": "python",
   "name": "python3"
  },
  "language_info": {
   "codemirror_mode": {
    "name": "ipython",
    "version": 3
   },
   "file_extension": ".py",
   "mimetype": "text/x-python",
   "name": "python",
   "nbconvert_exporter": "python",
   "pygments_lexer": "ipython3",
   "version": "3.12.4"
  }
 },
 "nbformat": 4,
 "nbformat_minor": 5
}
